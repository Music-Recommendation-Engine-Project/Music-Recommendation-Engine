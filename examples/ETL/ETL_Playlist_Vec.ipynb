{
 "cells": [
  {
   "cell_type": "code",
   "execution_count": 208,
   "metadata": {},
   "outputs": [],
   "source": [
    "import polars as pl\n",
    "import pandas as pd"
   ]
  },
  {
   "cell_type": "code",
   "execution_count": 210,
   "metadata": {},
   "outputs": [
    {
     "name": "stderr",
     "output_type": "stream",
     "text": [
      "C:\\Users\\juan\\AppData\\Local\\Temp\\ipykernel_17128\\1624177740.py:1: DtypeWarning: Columns (2) have mixed types. Specify dtype option on import or set low_memory=False.\n",
      "  df = pd.read_csv('1,2M_Tracks_with_playlists.csv')\n"
     ]
    }
   ],
   "source": [
    "df = pd.read_csv('1,2M_Tracks_with_playlists.csv')"
   ]
  },
  {
   "cell_type": "code",
   "execution_count": 211,
   "metadata": {},
   "outputs": [],
   "source": [
    "# Filter out playlists with less than 10 tracks, not null and nan\n",
    "df_playlsits = df[df[\"playlist_count\"].notnull()]\n",
    "\n",
    "df_playlsits = df_playlsits[df_playlsits[\"playlist_count\"] >= 10]\n",
    "df_playlsits = df_playlsits.dropna()"
   ]
  },
  {
   "cell_type": "code",
   "execution_count": 212,
   "metadata": {},
   "outputs": [
    {
     "data": {
      "text/plain": [
       "polars.cfg.Config"
      ]
     },
     "execution_count": 212,
     "metadata": {},
     "output_type": "execute_result"
    }
   ],
   "source": [
    "# Limit of columns width\n",
    "pl.Config.set_fmt_str_lengths(100)"
   ]
  },
  {
   "cell_type": "code",
   "execution_count": 213,
   "metadata": {},
   "outputs": [
    {
     "name": "stderr",
     "output_type": "stream",
     "text": [
      "C:\\Users\\juan\\AppData\\Local\\Temp\\ipykernel_17128\\3830364219.py:2: FutureWarning: The default value of regex will change from True to False in a future version. In addition, single character regular expressions will *not* be treated as literal strings when regex=True.\n",
      "  df_playlsits[\"playlist_id\"] = df_playlsits[\"playlist_id\"].str.replace(\"[\", \"\")\n",
      "C:\\Users\\juan\\AppData\\Local\\Temp\\ipykernel_17128\\3830364219.py:3: FutureWarning: The default value of regex will change from True to False in a future version. In addition, single character regular expressions will *not* be treated as literal strings when regex=True.\n",
      "  df_playlsits[\"playlist_id\"] = df_playlsits[\"playlist_id\"].str.replace(\"]\", \"\")\n"
     ]
    }
   ],
   "source": [
    "# # Remove all '[', ']' and '\"'\"\n",
    "df_playlsits[\"playlist_id\"] = df_playlsits[\"playlist_id\"].str.replace(\"[\", \"\")\n",
    "df_playlsits[\"playlist_id\"] = df_playlsits[\"playlist_id\"].str.replace(\"]\", \"\")\n",
    "df_playlsits[\"playlist_id\"] = df_playlsits[\"playlist_id\"].str.replace(\"'\", \"\") \n",
    "df_playlsits[\"playlist_id\"] = df_playlsits[\"playlist_id\"].str.replace(\" \", \"\") \n",
    "\n",
    "# Split the column\n",
    "df_playlsits[\"playlist_id\"] = df_playlsits[\"playlist_id\"].str.split(\",\")\n"
   ]
  },
  {
   "cell_type": "code",
   "execution_count": 246,
   "metadata": {},
   "outputs": [],
   "source": [
    "# Get all the unique playlists from the column playlist_id\n",
    "unique_playlists = []\n",
    "for i in df_playlsits[\"playlist_id\"]:\n",
    "    for j in i:\n",
    "        if j == \"nan\":\n",
    "            i.remove(j)\n",
    "        else:\n",
    "            j = int(j)\n",
    "            if j not in unique_playlists:\n",
    "                unique_playlists.append(j)"
   ]
  },
  {
   "cell_type": "code",
   "execution_count": 248,
   "metadata": {},
   "outputs": [
    {
     "name": "stdout",
     "output_type": "stream",
     "text": [
      "5000\n"
     ]
    }
   ],
   "source": [
    "print(len(unique_playlists))"
   ]
  },
  {
   "cell_type": "code",
   "execution_count": 299,
   "metadata": {},
   "outputs": [],
   "source": [
    "import numpy as np\n",
    "from datasketch import MinHash, MinHashLSHForest\n",
    "from sklearn.cluster import AgglomerativeClustering\n",
    "from sklearn.metrics import silhouette_score\n",
    "# SpectralClustering\n",
    "from sklearn.cluster import SpectralClustering"
   ]
  },
  {
   "cell_type": "code",
   "execution_count": 266,
   "metadata": {},
   "outputs": [],
   "source": [
    "# Load the dataset\n",
    "song_data = (df_playlsits[[\"track_uri\", \"playlist_id\"]].values)\n",
    "\n",
    "# Create a dictionary of playlists for each song\n",
    "song_playlists = {}\n",
    "for song_id, playlist_ids in song_data:\n",
    "    song_playlists[song_id] = set(playlist_ids)"
   ]
  },
  {
   "cell_type": "code",
   "execution_count": 267,
   "metadata": {},
   "outputs": [],
   "source": [
    "# Define the number of hash functions and bands\n",
    "n_hash_functions = 128\n",
    "n_bands = 64\n",
    "\n",
    "# Create MinHash signatures for each song\n",
    "minhashes = {}\n",
    "for song_id, playlists in song_playlists.items():\n",
    "    mh = MinHash(num_perm=n_hash_functions)\n",
    "    for playlist in playlists:\n",
    "        mh.update(str(playlist).encode('utf-8'))\n",
    "    minhashes[song_id] = mh"
   ]
  },
  {
   "cell_type": "code",
   "execution_count": 271,
   "metadata": {},
   "outputs": [],
   "source": [
    "# Create a MinHash LSH forest and index the signatures\n",
    "forest = MinHashLSHForest(num_perm=n_hash_functions)\n",
    "for song_id, mh in minhashes.items():\n",
    "    forest.add(song_id, mh)\n",
    "forest.index()"
   ]
  },
  {
   "cell_type": "code",
   "execution_count": 272,
   "metadata": {},
   "outputs": [],
   "source": [
    "# Compute the Jaccard similarity between all pairs of songs\n",
    "similarity_matrix = np.zeros((len(song_data), len(song_data)))\n",
    "for i, (song_id1, _) in enumerate(song_data):\n",
    "    mh1 = minhashes[song_id1]\n",
    "    for j, (song_id2, _) in enumerate(song_data[i+1:], i+1):\n",
    "        mh2 = minhashes[song_id2]\n",
    "        similarity_matrix[i, j] = mh1.jaccard(mh2)\n",
    "        similarity_matrix[j, i] = similarity_matrix[i, j]"
   ]
  },
  {
   "cell_type": "code",
   "execution_count": 302,
   "metadata": {},
   "outputs": [
    {
     "data": {
      "text/plain": [
       "-0.04299860150244076"
      ]
     },
     "execution_count": 302,
     "metadata": {},
     "output_type": "execute_result"
    }
   ],
   "source": [
    "# Cluster the songs using spectral clustering\n",
    "clustering = SpectralClustering(n_clusters=100, affinity='precomputed', n_init=100, n_jobs=-1)\n",
    "clustering.fit(similarity_matrix)"
   ]
  },
  {
   "cell_type": "code",
   "execution_count": 303,
   "metadata": {},
   "outputs": [
    {
     "name": "stdout",
     "output_type": "stream",
     "text": [
      "{33: 7986, 40: 628, 91: 163, 93: 283, 99: 319, 62: 416, 46: 181, 1: 279, 60: 216, 72: 207, 69: 2644, 95: 177, 15: 44, 53: 317, 67: 82, 27: 217, 0: 237, 64: 80, 97: 114, 50: 138, 71: 232, 47: 71, 79: 120, 88: 175, 59: 51, 42: 68, 19: 104, 57: 70, 61: 45, 55: 149, 28: 171, 58: 92, 70: 44, 86: 83, 21: 188, 41: 76, 63: 100, 75: 53, 82: 71, 32: 35, 89: 57, 68: 66, 77: 13, 96: 48, 83: 50, 39: 115, 2: 57, 87: 23, 81: 39, 9: 29, 38: 54, 35: 61, 44: 35, 52: 24, 16: 18, 85: 75, 18: 54, 26: 38, 25: 32, 37: 70, 80: 26, 98: 33, 29: 30, 76: 41, 4: 18, 90: 83, 36: 32, 17: 62, 78: 65, 51: 16, 30: 36, 20: 62, 45: 52, 94: 17, 65: 39, 10: 24, 6: 27, 84: 54, 74: 51, 49: 38, 24: 18, 54: 11, 48: 20, 43: 20, 13: 11, 7: 12, 3: 9, 8: 14, 56: 9, 92: 15, 23: 7, 5: 8, 34: 23, 11: 16, 22: 37, 66: 14, 73: 5, 31: 5, 12: 6, 14: 10}\n"
     ]
    }
   ],
   "source": [
    "# Assign each song to a cluster\n",
    "song_clusters = {}\n",
    "for i, (song_id, _) in enumerate(song_data):\n",
    "    song_clusters[song_id] = clustering.labels_[i]\n",
    "# Count the number of songs in each cluster\n",
    "cluster_counts = {}\n",
    "for song_id, cluster_id in song_clusters.items():\n",
    "    if cluster_id not in cluster_counts:\n",
    "        cluster_counts[cluster_id] = 0\n",
    "    cluster_counts[cluster_id] += 1\n",
    "\n",
    "print(cluster_counts)"
   ]
  },
  {
   "cell_type": "code",
   "execution_count": 275,
   "metadata": {},
   "outputs": [],
   "source": [
    "# Create a DataFrame with the song clusters\n",
    "song_clusters = pd.DataFrame({'song_id': [song[0] for song in song_data], 'cluster': clustering.labels_})\n",
    "\n",
    "# Save the DataFrame to a CSV file\n",
    "song_clusters.to_csv('song_clusters.csv', index=False)"
   ]
  }
 ],
 "metadata": {
  "kernelspec": {
   "display_name": "Python 3",
   "language": "python",
   "name": "python3"
  },
  "language_info": {
   "codemirror_mode": {
    "name": "ipython",
    "version": 3
   },
   "file_extension": ".py",
   "mimetype": "text/x-python",
   "name": "python",
   "nbconvert_exporter": "python",
   "pygments_lexer": "ipython3",
   "version": "3.9.12"
  },
  "orig_nbformat": 4
 },
 "nbformat": 4,
 "nbformat_minor": 2
}
